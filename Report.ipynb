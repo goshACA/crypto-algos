{
 "cells": [
  {
   "cell_type": "markdown",
   "metadata": {},
   "source": [
    "# SECURITY FOR THE INTERNET OF THINGS\n",
    "\n",
    "## <a href='https://cours-info.iut-bm.univ-fcomte.fr/pmwiki-2.2.131/pmwiki.php/MonWiki/IotChiffrementSymetriqueEn'>The One-Time Pad</a>\n",
    "\n",
    "As we can see in the explanation the encryption and decryption take place with the same random generated noise (mask, that was generated using SystemRnadom), applying xor on the original message with the gotten mask.<br> After that the receiver on the other end applies xor on the mask and received encrypted msg.<br> That way we can get the original message. "
   ]
  },
  {
   "cell_type": "code",
   "execution_count": 425,
   "metadata": {},
   "outputs": [],
   "source": [
    "from random import SystemRandom\n",
    "import os\n",
    "import numpy as np\n",
    "import matplotlib.pyplot as plt\n",
    "import pandas as pd\n",
    "cryptogen = SystemRandom()\n",
    "def symmetrical_encrypt(msg):\n",
    "    mask = [cryptogen.randrange(2) for i in range(len(msg))]\n",
    "    print(mask)\n",
    "    encr = \"\"\n",
    "    for i in range(len(msg)):\n",
    "        res = (ord(msg[i]) - ord('0')) ^ mask[i]\n",
    "        encr = encr + str(res)\n",
    "    return (encr, mask)"
   ]
  },
  {
   "cell_type": "code",
   "execution_count": 426,
   "metadata": {},
   "outputs": [
    {
     "name": "stdout",
     "output_type": "stream",
     "text": [
      "[0, 1, 1, 1, 1, 0, 0]\n"
     ]
    }
   ],
   "source": [
    "(enc, mask) = symmetrical_encrypt(\"1011001\")"
   ]
  },
  {
   "cell_type": "code",
   "execution_count": 427,
   "metadata": {},
   "outputs": [],
   "source": [
    "def symmetrical_decrypt(encr, mask):\n",
    "     decr = \"\"\n",
    "     for i in range(len(mask)):\n",
    "        res = (ord(encr[i]) - ord('0')) ^ mask[i]\n",
    "        decr = decr + str(res)\n",
    "     return (decr, mask)"
   ]
  },
  {
   "cell_type": "code",
   "execution_count": 428,
   "metadata": {},
   "outputs": [],
   "source": [
    "(decr, tt) = symmetrical_decrypt(enc, mask)"
   ]
  },
  {
   "cell_type": "code",
   "execution_count": 429,
   "metadata": {},
   "outputs": [
    {
     "name": "stdout",
     "output_type": "stream",
     "text": [
      "1011001\n"
     ]
    }
   ],
   "source": [
    "print(decr)"
   ]
  },
  {
   "cell_type": "markdown",
   "metadata": {},
   "source": [
    "# <a href='https://cours-info.iut-bm.univ-fcomte.fr/pmwiki-2.2.131/pmwiki.php/MonWiki/IotGenerateurAleaEn'>CONSTITUTION OF RANDOM GENERATORS</a>\n",
    "\n",
    "## LINEAR CONGRUENTIAL GENERATORS\n",
    "\n",
    "This generator has low complexity and is not secure enough. <br>\n",
    "X<sub>n+1</sub>=(a⋅X<sub>n</sub>+c)%m  -> depends on params a, c, m \n",
    "\n",
    "The generator is periodic and some parameters produce better results. To obtain such parameters it is required for them to satisfy those requirements:\n",
    "\n",
    "- c and m are coprime integers (their gcd is 1)\n",
    "- For each prime number p dividing m, (a−1) is a multiple of p\n",
    "- m  multiple of 4 ⇒(a−1) multiple of 4\n",
    "- valid for c≠0\n",
    "\n",
    "Based on this implementation odd and even random numbers are evenly generated. "
   ]
  },
  {
   "cell_type": "code",
   "execution_count": 223,
   "metadata": {},
   "outputs": [],
   "source": [
    "def generate_next(a, c, m, Xn):\n",
    "    res = (a*Xn + c) % m\n",
    "    return (a*Xn + c) % m\n",
    "\n",
    "def generate_seq(length):\n",
    "    seq = []\n",
    "    ## find optimal a, c, m, seed\n",
    "    (a, c, m, seed) = find_opt_params()\n",
    "    seq.append(generate_next(a, c, m, seed))\n",
    "    for i in range(1, length):\n",
    "        seq.append(generate_next(a, c, m, seq[i-1]))\n",
    "    return seq\n",
    "\n",
    "def find_opt_params():\n",
    "    m = pow(16, cryptogen.randrange(10))\n",
    "    c = pow(3, cryptogen.randrange(10))\n",
    "    a = 5\n",
    "    seed = pow(11, cryptogen.randrange(10))\n",
    "    return (a, c, m, seed)\n",
    "    "
   ]
  },
  {
   "cell_type": "code",
   "execution_count": 224,
   "metadata": {},
   "outputs": [
    {
     "name": "stdout",
     "output_type": "stream",
     "text": [
      "[20288, 121123, 625298, 3146173, 15750548, 11663559]\n"
     ]
    }
   ],
   "source": [
    "print(generate_seq(6))"
   ]
  },
  {
   "cell_type": "code",
   "execution_count": 225,
   "metadata": {},
   "outputs": [],
   "source": [
    "res = generate_seq(40)"
   ]
  },
  {
   "cell_type": "code",
   "execution_count": 231,
   "metadata": {},
   "outputs": [
    {
     "name": "stdout",
     "output_type": "stream",
     "text": [
      "Generated sequence:  [97435858, 487179293, 2435896468, 3589547751, 767869574, 3839347873, 2016870184, 1494416331, 3177114362, 3000669925, 2118447740, 2002304111, 1421585966, 2812962537, 1179910800, 1604586707, 3727966242, 1459962029, 3004842852, 2139312375, 2106627286, 1943201841, 1126074616, 1335405787, 2382061642, 3320373621, 3716966220, 1404961919, 2729842302, 764309625, 3821548128, 1927871459, 1049422706, 952146237, 465763892, 2328819463, 3054162726, 2385911745, 3339624136, 3813218795]\n",
      "Quantity of odd and even vals:  [20 20]\n"
     ]
    }
   ],
   "source": [
    "print(\"Generated sequence: \", [x for x in res])\n",
    "print(\"Quantity of odd and even vals: \", np.bincount([x % 2 for x in res]))"
   ]
  },
  {
   "cell_type": "code",
   "execution_count": 232,
   "metadata": {},
   "outputs": [
    {
     "data": {
      "text/plain": [
       "<BarContainer object of 2 artists>"
      ]
     },
     "execution_count": 232,
     "metadata": {},
     "output_type": "execute_result"
    },
    {
     "data": {
      "image/png": "[encoded data removed]",
      "text/plain": [
       "<Figure size 432x288 with 1 Axes>"
      ]
     },
     "metadata": {
      "needs_background": "light"
     },
     "output_type": "display_data"
    }
   ],
   "source": [
    "plt.bar(['Even', 'Odd'], np.bincount([x % 2 for x in res]))\n"
   ]
  },
  {
   "cell_type": "markdown",
   "metadata": {},
   "source": [
    "### Integration to the one-time pad algorithm\n",
    "\n",
    "As you can notice, before the one-time pad algorithm used **SystemRandom** to generate random mask. <br>In the integrated version the mask is generated based on the rand_n % 2 where rand_n is **member of the sequence generated with lcg**."
   ]
  },
  {
   "cell_type": "code",
   "execution_count": 80,
   "metadata": {},
   "outputs": [],
   "source": [
    "def symmetrical_encrypt_lcg(msg):\n",
    "    lcg_seq = generate_seq(len(msg))\n",
    "    mask = [i % 2 for i in lcg_seq]\n",
    "    print(\"Mask: \", mask)\n",
    "    encr = \"\"\n",
    "    for i in range(len(msg)):\n",
    "        res = (ord(msg[i]) - ord('0')) ^ mask[i]\n",
    "        encr = encr + str(res)\n",
    "    return ((encr, mask))"
   ]
  },
  {
   "cell_type": "code",
   "execution_count": 82,
   "metadata": {},
   "outputs": [
    {
     "name": "stdout",
     "output_type": "stream",
     "text": [
      "Mask:  [0, 1, 0, 1, 0, 1, 0, 1, 0, 1, 0, 1, 0]\n"
     ]
    },
    {
     "data": {
      "text/plain": [
       "'1011001100111'"
      ]
     },
     "execution_count": 82,
     "metadata": {},
     "output_type": "execute_result"
    }
   ],
   "source": [
    "(enc, mask) = symmetrical_encrypt_lcg(\"1011001100111\")\n",
    "(decr, tt) = symmetrical_decrypt(enc, mask)\n",
    "decr"
   ]
  },
  {
   "cell_type": "markdown",
   "metadata": {},
   "source": [
    "## THE XORSHIFT\n",
    "\n",
    "1. x ^= x >> a;\n",
    "\n",
    "2. x ^= x << b;\n",
    "\n",
    "3. x ^= x >> c; <br>\n",
    "\n",
    "\n",
    "The value obtained after these three operations is the new term of the sequence, to be output"
   ]
  },
  {
   "cell_type": "code",
   "execution_count": 235,
   "metadata": {},
   "outputs": [
    {
     "name": "stdout",
     "output_type": "stream",
     "text": [
      "Xorshift result :  5106502662052193633958887428\n"
     ]
    }
   ],
   "source": [
    "def generate_xor_shift():\n",
    "    a = cryptogen.randint(1, 10) * cryptogen.randint(1, 10)\n",
    "    b = cryptogen.randint(1, 10) * cryptogen.randint(1, 10)\n",
    "    c = cryptogen.randint(1, 10) * cryptogen.randint(1, 10)\n",
    "    return (a, b, c)\n",
    "    \n",
    "def simulate_xor_shift(x = cryptogen.randrange(10)):\n",
    "    (a, b, c) = generate_xor_shift()\n",
    "    x ^= int(x >> a);\n",
    "    x ^= int(x << b);\n",
    "    x ^= int(x >> c);\n",
    "    x = int(x)\n",
    "#    print(\"The result for xor: {},  The param a: {}, The param b: {}, The param c: {}\".format(x, a, b, c))\n",
    "    return x     \n",
    "\n",
    "print(\"Xorshift result : \", simulate_xor_shift())\n",
    "    \n",
    "    "
   ]
  },
  {
   "cell_type": "markdown",
   "metadata": {},
   "source": [
    "### Time comparison between 2 algorithms\n",
    "\n",
    "*Below you can see the results plotted based on fixed amound of generations.*"
   ]
  },
  {
   "cell_type": "code",
   "execution_count": 204,
   "metadata": {},
   "outputs": [],
   "source": [
    "import time\n",
    "\n",
    "def plot_lcg_time(times):\n",
    "    x, y = [], []\n",
    "    for i in range(times):\n",
    "        start = time.time()\n",
    "        rand = generate_seq(1)[0]\n",
    "        end = time.time()\n",
    "\n",
    "        x.append(rand)\n",
    "        y.append(end - start)\n",
    "    print(\"LCG random numbers: \", x)\n",
    "    print(\"Average exe time: \", round(sum(y)/len(y), 7))\n",
    "    plt.subplot(1, 2, 1)   \n",
    "    plt.scatter(x, y, c = y)\n",
    "    plt.xlabel('LCG seq')\n",
    "    plt.ylabel('Time')\n",
    "\n",
    "        \n",
    "def plot_xor_time(times):\n",
    "    x, y = [], []\n",
    "    for i in range(times):\n",
    "        start = time.time()\n",
    "        rand = simulate_xor_shift()\n",
    "        end = time.time()\n",
    "\n",
    "        x.append(rand)\n",
    "        y.append(end - start)\n",
    "    print(\"XOR random numbers: \", x)\n",
    "    print(\"Average exe time: \", round(sum(y)/len(y), 7))\n",
    "    plt.subplot(1, 2, 2)   \n",
    "    plt.scatter(x, y, c = y)\n",
    "    plt.xlabel('XOR seq')\n",
    "    plt.ylabel('Time')\n",
    "    plt.tight_layout()\n"
   ]
  },
  {
   "cell_type": "code",
   "execution_count": 206,
   "metadata": {},
   "outputs": [
    {
     "name": "stdout",
     "output_type": "stream",
     "text": [
      "LCG random numbers:  [2192, 232, 8858048, 14, 606, 8, 226, 6658, 7166, 8672]\n",
      "Average exe time:  0.0001266\n",
      "XOR random numbers:  [9895605239817, 297, 585, 309242363913, 39582418636809, 8200, 150995529, 9663676425, 153, 5066549580791817]\n",
      "Average exe time:  0.0001089\n"
     ]
    },
    {
     "data": {
      "image/png": "[encoded data removed]",
      "text/plain": [
       "<Figure size 432x288 with 2 Axes>"
      ]
     },
     "metadata": {
      "needs_background": "light"
     },
     "output_type": "display_data"
    }
   ],
   "source": [
    "plot_lcg_time(10)\n",
    "plot_xor_time(10)"
   ]
  },
  {
   "cell_type": "markdown",
   "metadata": {},
   "source": [
    "## <a href='https://en.wikipedia.org/wiki/Linear-feedback_shift_register'>Linear-feedback shift register</a>\n",
    "\n",
    "LFSR is a shift register whose input bit is a linear function of its previous state. \n",
    "The LFSR is maximal-length if and only if the corresponding feedback polynomial is primitive. This means that the following conditions are necessary:\n",
    "- The number of taps is even.\n",
    "- The set of taps is setwise co-prime; i.e., there must be no divisor other than 1 common to all taps.\n",
    "\n",
    "Below you can see the resultat for taps = [16, 13, 10, 11]"
   ]
  },
  {
   "cell_type": "code",
   "execution_count": 430,
   "metadata": {},
   "outputs": [
    {
     "name": "stdout",
     "output_type": "stream",
     "text": [
      "PERIOD:  16383\n"
     ]
    }
   ],
   "source": [
    "def perform_shift(bit, lfsr, period, taps):\n",
    "    for tap in taps:\n",
    "        bit = int((lfsr >> (16 - tap)) ^ bit)\n",
    "    bit = bit & 1\n",
    "    lfsr = int((lfsr >> 1) | (bit << 15));\n",
    "    period = period + 1\n",
    "    return (period, bit, lfsr)\n",
    "\n",
    "def linear_shift(start_state, taps):\n",
    "    lfsr = start_state;\n",
    "    bit = 0;                    \n",
    "    period = 0;\n",
    "\n",
    "    period, lbit, lfsr = perform_shift(bit, lfsr, period, taps)\n",
    "    while lfsr != start_state:\n",
    "        period, lbit, lfsr = perform_shift(bit, lfsr, period, taps)\n",
    "\n",
    "    print(\"PERIOD: \", period)\n",
    "    \n",
    "linear_shift(22323, [16,13,10,11])"
   ]
  },
  {
   "cell_type": "markdown",
   "metadata": {},
   "source": [
    "# <a href='https://en.wikipedia.org/wiki/Blum_Blum_Shub'>Blum Blum Shub</a>\n",
    "\n",
    "Blum Blum Shub is a pseudorandom number generator and takes this form:\n",
    "<img src=\"https://wikimedia.org/api/rest_v1/media/math/render/svg/1973ef6f265492040ea5a1ac9cd2e1be73e2b04b\">,\n",
    "- M = pq is product of large prime numbers p and q.\n",
    "- The seed x<sub>0</sub> is comprime to M\n",
    "- p and q should be congruent to 3(mod 4)\n"
   ]
  },
  {
   "cell_type": "code",
   "execution_count": 454,
   "metadata": {},
   "outputs": [
    {
     "name": "stdout",
     "output_type": "stream",
     "text": [
      "M:  63001 Seed:  509\n",
      "Result:  00001101000110101101\n"
     ]
    }
   ],
   "source": [
    "from sympy import randprime, isprime \n",
    "def generate_primes(N=1000):\n",
    "    while True:\n",
    "        p = randprime(1, N)\n",
    "        q = randprime(1, N)\n",
    "        seed = randprime(1, N)\n",
    "        if isprime(2*p+1) and isprime(2*q+1) and p%4 == q%4 == 3 and (seed % p == seed % q) != 0:\n",
    "            return p*q, seed\n",
    "def bit_parity(num):\n",
    "    return sum([int(i) for i in bin(num)[2:]])%2\n",
    "\n",
    "def blum_shub(seed=None, n=20):\n",
    "    output = \"\"\n",
    "    M, x0 = generate_primes()\n",
    "    print(\"M: \", M, \"Seed: \", x0)\n",
    "    #x0 = seed if seed is not None else x0\n",
    "    x = (x0**2)%M\n",
    "    for i in range(n): \n",
    "        output += str(bit_parity(x))\n",
    "        x = (x**2)%M\n",
    "    return output\n",
    "\n",
    "print(\"Result: \", blum_shub())"
   ]
  },
  {
   "cell_type": "markdown",
   "metadata": {},
   "source": [
    "## Rapid Exponentiation\n",
    "\n",
    "1. We write e in base 2,\n",
    "2. We remove the first 1 of this writing,\n",
    "3. Then we replace\n",
    "    - the 0 by S,\n",
    "    - the 1 by SX,\n",
    "\n",
    "We thus obtain a word made up of the letters S and X.\n",
    "4. We start from the number X.\n",
    "    - if the first letter is S, we raise to the square\n",
    "    - otherwise, multiply by X.\n",
    "5. Start again with the following letters, until the end of the word.\n"
   ]
  },
  {
   "cell_type": "code",
   "execution_count": 455,
   "metadata": {},
   "outputs": [],
   "source": [
    "def define_word(num):\n",
    "    form = \"{0:b}\".format(num)[1:]\n",
    "    string = \"\"\n",
    "    for i in form:\n",
    "        string = string + (\"SX\" if i == '1' else \"S\")\n",
    "    print(form + \"  \" + string)\n",
    "    return string\n",
    "\n",
    "def exp(word, X):\n",
    "    res = X\n",
    "    expo = [1]\n",
    "    for i in word:\n",
    "        res = res * (res if i == 'S' else X)\n",
    "        expo.append(expo[-1] + 1 if i != 'S' else expo[-1]*2) \n",
    "    print(\"List of exponents: \", expo)\n",
    "    return res"
   ]
  },
  {
   "cell_type": "code",
   "execution_count": 456,
   "metadata": {},
   "outputs": [
    {
     "name": "stdout",
     "output_type": "stream",
     "text": [
      "0011  SSSXSX\n",
      "List of exponents:  [1, 2, 4, 8, 9, 18, 19]\n",
      "Result: 524288\n"
     ]
    }
   ],
   "source": [
    "print(\"Result:\" , exp(define_word(19), 2))"
   ]
  },
  {
   "cell_type": "markdown",
   "metadata": {},
   "source": [
    "# Generation of prime numbers"
   ]
  },
  {
   "cell_type": "markdown",
   "metadata": {},
   "source": [
    "## ERATOSTHENES' SIEVE\n",
    "\n",
    "**To obtain a list of prime numbers below N, one can proceed as follows:**\n",
    "\n",
    "- Create the list of integers from 2 to N,\n",
    "- Delete, in this list, the multiples of 2, then the multiples of the next remaining number in the list (3), then the multiples of the next remaining number in the list (5)...\n",
    "- Stop at N/2.\n",
    "\n",
    "\n",
    "- By implementing those steps, the result sequence will be prime, because on each step we remove numbers that have dividers.\n",
    "- Its possible to shrink iteration by going till *N/2*, because for example if we check number p, at this step, all lower multiples of p<sup>2</sup> were already eliminated for p-1, p-2, ..., etc. So we can check p<sup>2</sup>, p(p+1), p(p+2), ..., till N\n",
    "- Its one of the fastest algorithms to find prime numbers in range, that can be used in IoT as well"
   ]
  },
  {
   "cell_type": "code",
   "execution_count": 480,
   "metadata": {},
   "outputs": [],
   "source": [
    "from math import sqrt\n",
    "def check_primes(N):\n",
    "    primes = [True]*(N+1)\n",
    "    p = 2\n",
    "    while (p * p <= N):\n",
    "        if primes[p]:\n",
    "            for i in range(p ** 2, N + 1, p):\n",
    "                primes[i] = False\n",
    "        p += 1\n",
    "    return {i: \"prime\" if primes[i] else \"non_prime\" for i in range(2, N+1) }\n",
    "\n",
    "def get_primes(N):\n",
    "    dic = check_primes(N)\n",
    "    return[i for i in dic.keys() if dic[i] == \"prime\"]\n",
    "\n",
    "def get_max_prime(N):\n",
    "    arr = get_primes(N)\n",
    "    return arr[len(arr)-1]\n"
   ]
  },
  {
   "cell_type": "code",
   "execution_count": 481,
   "metadata": {},
   "outputs": [
    {
     "data": {
      "text/plain": [
       "[2, 3, 5, 7, 11, 13, 17, 19, 23, 29]"
      ]
     },
     "execution_count": 481,
     "metadata": {},
     "output_type": "execute_result"
    }
   ],
   "source": [
    "get_primes(30)"
   ]
  },
  {
   "cell_type": "markdown",
   "metadata": {},
   "source": [
    "## Small theorem of Fermat\n",
    "\n",
    "It's possible to implement, in the sensor, a first probabilistic primality test based on Fermat in this way:\n",
    "\n",
    "1. Start by doing some simple tests: a number with at least two digits, and ending with 0,2,4,5,6,8, for example, is not prime.\n",
    "2. Then, we can integrate the test of a<sub>n</sub> ≡ a[n], to see if the number has a chance of being prime."
   ]
  },
  {
   "cell_type": "code",
   "execution_count": 523,
   "metadata": {},
   "outputs": [],
   "source": [
    "from random import randint\n",
    "def gcd(a, b):\n",
    "    if a < b:\n",
    "        return gcd(b, a)\n",
    "    elif a%b == 0:\n",
    "        return b\n",
    "    else:\n",
    "        return gcd(a, a%b)\n",
    "    \n",
    "    \n",
    "def fermat(prime, trials):\n",
    "    while trials:\n",
    "        a = randint(2, prime - 1)\n",
    "        if gcd(a, prime) != 1:\n",
    "            return False\n",
    "        if a**(prime-1)% prime != 1:\n",
    "            return False\n",
    "        trials -= 1\n",
    "    return True\n",
    "\n",
    "        "
   ]
  },
  {
   "cell_type": "code",
   "execution_count": 524,
   "metadata": {},
   "outputs": [
    {
     "data": {
      "text/plain": [
       "False"
      ]
     },
     "execution_count": 524,
     "metadata": {},
     "output_type": "execute_result"
    }
   ],
   "source": [
    "fermat(3425483242573, 19)"
   ]
  },
  {
   "cell_type": "markdown",
   "metadata": {},
   "source": [
    "## Miller-Rabin\n",
    "\n",
    "$\\mathbf{\\text{This algorithm is a probabilistic test of primacy, based on amount of trials}}$<br>\n"
   ]
  },
  {
   "cell_type": "code",
   "execution_count": 532,
   "metadata": {},
   "outputs": [],
   "source": [
    "def is_prime_miller_rabin(n, k):\n",
    "    if n < 3:\n",
    "        return True\n",
    "    if not n % 2 :\n",
    "        return False\n",
    "    d = odd_div(n - 1)\n",
    "    for i in range(k):\n",
    "        if miller_test(n, d) == False:\n",
    "            return False\n",
    "    return True\n",
    "\n",
    "def miller_test(n, d):\n",
    "    a = randint(2, n - 2)\n",
    "    x = pow(a, d) % n\n",
    "    if x == 1 or x == n - 1:\n",
    "        return True\n",
    "    while d != n - 1:\n",
    "        x = (x*x) % n\n",
    "        d = d * 2\n",
    "        if x == 1:\n",
    "            return False\n",
    "        elif x == n - 1: \n",
    "            return True\n",
    "    return False\n",
    "\n",
    "def odd_div(n):\n",
    "    while n % 2 == 0:\n",
    "        n = n//2\n",
    "    return n"
   ]
  },
  {
   "cell_type": "code",
   "execution_count": 540,
   "metadata": {},
   "outputs": [
    {
     "name": "stdout",
     "output_type": "stream",
     "text": [
      "368 Is prime by Miller-Rabin?  False | Is prime?  False\n",
      "4027 Is prime by Miller-Rabin?  True | Is prime?  True\n",
      "1842 Is prime by Miller-Rabin?  False | Is prime?  False\n",
      "3205 Is prime by Miller-Rabin?  False | Is prime?  False\n",
      "1828 Is prime by Miller-Rabin?  False | Is prime?  False\n",
      "3135 Is prime by Miller-Rabin?  False | Is prime?  False\n",
      "1478 Is prime by Miller-Rabin?  False | Is prime?  False\n"
     ]
    }
   ],
   "source": [
    "rand_seq = generate_seq(7)\n",
    "for i in rand_seq:\n",
    "    print(i, \"Is prime by Miller-Rabin? \", is_prime_miller_rabin(i, 3), \"| Is prime? \", isprime(i))"
   ]
  },
  {
   "cell_type": "markdown",
   "metadata": {},
   "source": [
    "## <a href='https://en.wikipedia.org/wiki/Solovay%E2%80%93Strassen_primality_test'>Solovay-Strassen</a>\n",
    "\n",
    "Solovay–Strassen is a probabilistic test to determine if a number is probably prime or composite. \n",
    "\n",
    "<pre><b>inputs</b>: <i>n</i>, a value to test for primality\n",
    "        <i>k</i>, a parameter that determines the accuracy of the test\n",
    "<b>output</b>: <i>composite</i> if <i>n</i> is composite, otherwise <i>probably prime</i>\n",
    "\n",
    "<b>repeat</b> <i>k</i> times:\n",
    "    choose <i>a</i> randomly in the range [2,<i>n</i> − 1]\n",
    "    <span class=\"nowrap\"><span class=\"mwe-math-element\"><span class=\"mwe-math-mathml-inline mwe-math-mathml-a11y\" style=\"display: none;\"><math xmlns=\"http://www.w3.org/1998/Math/MathML\" alttext=\"{\\displaystyle x\\gets \\left({\\tfrac {a}{n}}\\right)}\">\n",
    "  <semantics>\n",
    "    <mrow class=\"MJX-TeXAtom-ORD\">\n",
    "      <mstyle displaystyle=\"true\" scriptlevel=\"0\">\n",
    "        <mi>x</mi>\n",
    "        <mo stretchy=\"false\">←<!-- ← --></mo>\n",
    "        <mrow>\n",
    "          <mo>(</mo>\n",
    "          <mrow class=\"MJX-TeXAtom-ORD\">\n",
    "            <mstyle displaystyle=\"false\" scriptlevel=\"0\">\n",
    "              <mfrac>\n",
    "                <mi>a</mi>\n",
    "                <mi>n</mi>\n",
    "              </mfrac>\n",
    "            </mstyle>\n",
    "          </mrow>\n",
    "          <mo>)</mo>\n",
    "        </mrow>\n",
    "      </mstyle>\n",
    "    </mrow>\n",
    "    <annotation encoding=\"application/x-tex\">{\\displaystyle x\\gets \\left({\\tfrac {a}{n}}\\right)}</annotation>\n",
    "  </semantics>\n",
    "</math></span><img src=\"https://wikimedia.org/api/rest_v1/media/math/render/svg/61b5fb876bde925a1acd7d256d4d6f520c90c31a\" class=\"mwe-math-fallback-image-inline\" aria-hidden=\"true\" style=\"vertical-align: -1.005ex; width:8.896ex; height:3.176ex;\" alt=\"{\\displaystyle x\\gets \\left({\\tfrac {a}{n}}\\right)}\"></span></span>\n",
    "    <b>if</b> <span class=\"texhtml\"><i>x</i>&nbsp;=&nbsp;0</span> <b>or</b> <span class=\"nowrap\"><span class=\"mwe-math-element\"><span class=\"mwe-math-mathml-inline mwe-math-mathml-a11y\" style=\"display: none;\"><math xmlns=\"http://www.w3.org/1998/Math/MathML\" alttext=\"{\\displaystyle a^{(n-1)/2}\\not \\equiv x{\\pmod {n}}}\">\n",
    "  <semantics>\n",
    "    <mrow class=\"MJX-TeXAtom-ORD\">\n",
    "      <mstyle displaystyle=\"true\" scriptlevel=\"0\">\n",
    "        <msup>\n",
    "          <mi>a</mi>\n",
    "          <mrow class=\"MJX-TeXAtom-ORD\">\n",
    "            <mo stretchy=\"false\">(</mo>\n",
    "            <mi>n</mi>\n",
    "            <mo>−<!-- − --></mo>\n",
    "            <mn>1</mn>\n",
    "            <mo stretchy=\"false\">)</mo>\n",
    "            <mrow class=\"MJX-TeXAtom-ORD\">\n",
    "              <mo>/</mo>\n",
    "            </mrow>\n",
    "            <mn>2</mn>\n",
    "          </mrow>\n",
    "        </msup>\n",
    "        <mo>≢</mo>\n",
    "        <mi>x</mi>\n",
    "        <mrow class=\"MJX-TeXAtom-ORD\">\n",
    "          <mspace width=\"1em\"></mspace>\n",
    "          <mo stretchy=\"false\">(</mo>\n",
    "          <mi>mod</mi>\n",
    "          <mspace width=\"0.333em\"></mspace>\n",
    "          <mi>n</mi>\n",
    "          <mo stretchy=\"false\">)</mo>\n",
    "        </mrow>\n",
    "      </mstyle>\n",
    "    </mrow>\n",
    "    <annotation encoding=\"application/x-tex\">{\\displaystyle a^{(n-1)/2}\\not \\equiv x{\\pmod {n}}}</annotation>\n",
    "  </semantics>\n",
    "</math></span><img src=\"https://wikimedia.org/api/rest_v1/media/math/render/svg/cf7c9008b99ce3af6c0842ae413aa7d7f345a201\" class=\"mwe-math-fallback-image-inline\" aria-hidden=\"true\" style=\"vertical-align: -0.838ex; width:22.98ex; height:3.343ex;\" alt=\"a^{(n-1)/2}\\not \\equiv x{\\pmod {n}}\"></span></span> <b>then</b> \n",
    "        <b>return</b> <i>composite</i>\n",
    "<b>return</b> <i>probably prime</i>\n",
    "</pre>"
   ]
  },
  {
   "cell_type": "code",
   "execution_count": 463,
   "metadata": {},
   "outputs": [],
   "source": [
    "def get_legendre(a, p):\n",
    "    if a % p == 0:\n",
    "        return 0\n",
    "    for i in range(p):\n",
    "        if i**2 == a%p:\n",
    "            return 1\n",
    "    return -1\n",
    "\n",
    "def is_prime(num, k):\n",
    "    while k:\n",
    "        a = randint(2, num-1)\n",
    "        x = get_legendre(a, num)\n",
    "        if x == 0 or (a**((num-1)//2))%num != x%num:\n",
    "            return False\n",
    "        k = k - 1\n",
    "    return True"
   ]
  },
  {
   "cell_type": "code",
   "execution_count": 464,
   "metadata": {},
   "outputs": [
    {
     "data": {
      "text/plain": [
       "False"
      ]
     },
     "execution_count": 464,
     "metadata": {},
     "output_type": "execute_result"
    }
   ],
   "source": [
    "is_prime(7, 15)"
   ]
  },
  {
   "cell_type": "markdown",
   "metadata": {},
   "source": [
    "## Lucas-Lehmer\n",
    "\n",
    "This test works for Mersenne numbers. <br>That means that the number *n* to check is **M<sub>p</sub> = 2<sup>p</sup> - 1**, where p is odd\n",
    "\n",
    "<img src=\"https://wikimedia.org/api/rest_v1/media/math/render/svg/4212bd376678838f4f69192f5f498bf3d03c5f67\" class=\"mwe-math-fallback-image-inline\" aria-hidden=\"true\" style=\"vertical-align: -2.505ex; width:28.023ex; height:6.176ex;\" alt=\"s_{i}={\\begin{cases}4&amp;{\\text{if }}i=0;\\\\s_{i-1}^{2}-2&amp;{\\text{otherwise.}}\\end{cases}}\">\n",
    "\n",
    "Then M<sub>p</sub> is prime if and only if\n",
    "<img src=\"https://wikimedia.org/api/rest_v1/media/math/render/svg/0952c8b1cba829d16b7e669761f9276f7c988aaa\">"
   ]
  },
  {
   "cell_type": "code",
   "execution_count": 313,
   "metadata": {},
   "outputs": [],
   "source": [
    "def is_prime_lucas_lehmer(p):\n",
    "    Mp = 2**p - 1\n",
    "    s = 4\n",
    "    for i in range(p-2):\n",
    "        s = (s**2 - 2) % Mp\n",
    "    return s == 0"
   ]
  },
  {
   "attachments": {},
   "cell_type": "markdown",
   "metadata": {},
   "source": [
    "# Key exchange\n",
    "## <a href= 'https://en.wikipedia.org/wiki/Diffie%E2%80%93Hellman_key_exchange'>Diffie–Hellman key exchange</a>\n",
    "\n",
    "<div>\n",
    "<img src=\"https://upload.wikimedia.org/wikipedia/commons/thumb/4/4c/Public_key_shared_secret.svg/500px-Public_key_shared_secret.svg.png\" width=\"300\" height=\"300\"/>\n",
    "</div>\n",
    "\n",
    "Diffie–Hellman key exchange is a method of securely exchanging cryptographic keys over a public channel and was one of the first public-key protocols.\n",
    "\n",
    "In the simplest and the original implementation *p* is prime and *g* is a primitive root modulo *p*\n",
    "\n",
    "Example:\n",
    "<ol><li><a href=\"/wiki/Alice_and_Bob\" title=\"Alice and Bob\">Alice and Bob</a> publicly agree to use a modulus <i><span style=\"color:blue\">p</span></i> = <span style=\"color:blue\">23</span> and base <i><span style=\"color:blue\">g</span></i> = <span style=\"color:blue\">5</span> (which is a primitive root modulo 23).</li>\n",
    "<li>Alice chooses a secret integer <i><b><span style=\"color:red\">a</span></b></i> = 4, then sends Bob <i><span style=\"color:blue\">A</span></i> = <i><span style=\"color:blue\">g</span><sup><b><span style=\"color:red\">a</span></b></sup></i> mod <i><span style=\"color:blue\">p</span></i>\n",
    "<ul><li><i><span style=\"color:blue\">A</span></i> = <span style=\"color:blue\">5</span><sup><b><span style=\"color:red\">4</span></b></sup> mod <span style=\"color:blue\">23</span> = <span style=\"color:blue\">4</span></li></ul></li>\n",
    "<li>Bob chooses a secret integer <i><b><span style=\"color:red\">b</span></b></i> = 3, then sends Alice <i><span style=\"color:blue\">B</span></i> = <i><span style=\"color:blue\">g</span><sup><b><span style=\"color:red\">b</span></b></sup></i> mod <i><span style=\"color:blue\">p</span></i>\n",
    "<ul><li><i><span style=\"color:blue\">B</span></i> = <span style=\"color:blue\">5</span><sup><b><span style=\"color:red\">3</span></b></sup> mod <span style=\"color:blue\">23</span> = <span style=\"color:blue\">10</span></li></ul></li>\n",
    "<li>Alice computes <i><b><span style=\"color:red\">s</span></b></i> = <i><span style=\"color:blue\">B</span><sup><b><span style=\"color:red\">a</span></b></sup></i> mod <i><span style=\"color:blue\">p</span></i>\n",
    "<ul><li><i><b><span style=\"color:red\">s</span></b></i> = <span style=\"color:blue\">10</span><sup><b><span style=\"color:red\">4</span></b></sup> mod <span style=\"color:blue\">23</span> = <span style=\"color:red\">18</span></li></ul></li>\n",
    "<li>Bob computes <i><b><span style=\"color:red\">s</span></b></i> = <i><span style=\"color:blue\">A</span><sup><b><span style=\"color:red\">b</span></b></sup></i> mod <i><span style=\"color:blue\">p</span></i>\n",
    "<ul><li><i><b><span style=\"color:red\">s</span></b></i> = <span style=\"color:blue\">4</span><sup><b><span style=\"color:red\">3</span></b></sup> mod <span style=\"color:blue\">23</span> = <span style=\"color:red\">18</span></li></ul></li>\n",
    "<li>Alice and Bob now share a secret (the number 18).</li></ol>"
   ]
  },
  {
   "cell_type": "code",
   "execution_count": 137,
   "metadata": {},
   "outputs": [],
   "source": [
    "def key_exchange(p=23, g=5):\n",
    "    a = randint(2, 1000)\n",
    "    A = g**a % p\n",
    "    b = randint(2, 1000)\n",
    "    B = g**b % p\n",
    "    s = B**a % p\n",
    "\n",
    "class SecretGenerator:\n",
    "    def __init__(self, p=23, g=5):\n",
    "        self.p = p\n",
    "        self.g = g\n",
    "        \n",
    "    def sendAtoB(self):\n",
    "        self._a = randint(2, 1000)\n",
    "        print(\"Alice chose: \", self._a)\n",
    "        return self.g**self._a % self.p\n",
    "    \n",
    "    def sendBtoA(self):\n",
    "        self._b = randint(2, 1000)\n",
    "        print(\"Bob chose: \", self._b)\n",
    "        return self.g**self._b % self.p\n",
    "    \n",
    "    def printSecret(self):\n",
    "        print(\"Alice calculated: \", self.sendAtoB())\n",
    "        print(\"Bob calculated: \", self.sendBtoA())"
   ]
  },
  {
   "cell_type": "code",
   "execution_count": 138,
   "metadata": {},
   "outputs": [
    {
     "name": "stdout",
     "output_type": "stream",
     "text": [
      "Alice chose:  753\n",
      "Alice calculated:  20\n",
      "Bob chose:  181\n",
      "Bob calculated:  20\n"
     ]
    }
   ],
   "source": [
    "a = SecretGenerator()\n",
    "a.printSecret()"
   ]
  },
  {
   "cell_type": "markdown",
   "metadata": {},
   "source": [
    "# Asymmetric encryption algorithms\n",
    "\n",
    "Asymmetric cryptography, is a cryptographic system that uses pairs of keys. Each pair consists of a public key (which may be known to others) and a private key (which may not be known by anyone except the owner). The generation of such key pairs depends on cryptographic algorithms which are based on mathematical problems termed one-way functions.\n",
    "\n",
    "## <a href='https://en.wikipedia.org/wiki/Blum%E2%80%93Goldwasser_cryptosystem'>Blum-Goldwasser cryptosystem</a>\n",
    " \n",
    "\n",
    "\n",
    "The Blum–Goldwasser (BG) cryptosystem is an asymmetric key encryption algorithm. \n",
    "The public and private keys are generated as follows:\n",
    "1. Choose two large distinct prime numbers p and q such that p ≡ 3 mod 4 and q ≡ 3 mod 4\n",
    "2. Compute n = pq, where n is the private key\n",
    "\n",
    "<img src=\"https://i.ibb.co/gr6z8SN/bg-algo.png\" alt=\"bg-algo\" border=\"0\" width=\"500\" height=\"600\">\n"
   ]
  },
  {
   "cell_type": "code",
   "execution_count": 508,
   "metadata": {},
   "outputs": [],
   "source": [
    "import math\n",
    "from bitarray import bitarray\n",
    "from bitstring import BitArray\n",
    "from numpy import array_split\n",
    "import struct\n",
    "\n",
    "def extended_gcd(a, b):\n",
    "    old_r, r = a, b\n",
    "    old_s, s = 1, 0\n",
    "    old_t, t = 0, 1\n",
    "    \n",
    "    while r != 0:\n",
    "        q = old_r // r\n",
    "        old_r, r = r, old_r - q*r\n",
    "        old_s, s = s, old_s - q*s\n",
    "        old_t, t = t, old_t - q*t\n",
    "    return (old_s, old_t, old_r)\n",
    "\n",
    "class BlumGoldwasser:\n",
    "    def __init__(self):\n",
    "        pass\n",
    "    def generate_key(self):\n",
    "        satisfying = False\n",
    "        while not satisfying:\n",
    "            p = randint(20, 100)\n",
    "            q = randint(20, p)\n",
    "            satisfying = (p != q) and (p%4 == 3) and (q%4 == 3)\n",
    "        self._p = p\n",
    "        self._q = q\n",
    "        print(p, q)\n",
    "        return p*q\n",
    "    \n",
    "    def encrypt(self, M):\n",
    "        n = self.generate_key()\n",
    "        h = math.ceil(math.log2(math.log2(n)))\n",
    "        seq = M\n",
    "        self._t = round(len(M)/h)\n",
    "        seq = [str(seq[i:i+h]).zfill(h) for i in range(0, len(seq), h)]\n",
    "        c = []\n",
    "        r = randint(2, n)\n",
    "        x = r**2 % n\n",
    "        \n",
    "        for i in range(self._t):\n",
    "            x = x**2 % n\n",
    "            print(\"XI \", bin(x))\n",
    "            print(\"S \", bin(2**(h+1)-1))\n",
    "            p = x&((2**(h))-1)\n",
    "            print(\"P. \", bin(p))\n",
    "            j = int(str(seq[i]), 2)\n",
    "            print(j^p)\n",
    "            c.append(j^p)\n",
    "        x = x**2 % n\n",
    "        self._n = n\n",
    "        return (c, x)\n",
    "            \n",
    "    def decrypt(self, c, x):\n",
    "        h = math.ceil(math.log2(math.log2(self._n)))\n",
    "        print(\"H  \", h)\n",
    "        dp = ((self._p+1)/4)**(self._t+1)%(self._p-1)\n",
    "        dq = ((self._q+1)/4)**(self._t+1)%(self._q-1)\n",
    "        print(dp, \"  \", dq)\n",
    "        up = x**dp % self._p\n",
    "        uq = x**dq % self._q\n",
    "        print(\"UP \", up, \" \", uq)\n",
    "        rp, rq, rr = extended_gcd(self._p, self._q)\n",
    "        print(\"RP \", rp,  \" \", rq)\n",
    "        xi = int((uq*rp*self._p + up*rq*self._q)%self._n)\n",
    "        print(\"XO\", xi)\n",
    "        f = \"\"\n",
    "        for i in range(self._t):\n",
    "            xi = (xi**2)% self._n\n",
    "            print(\"XI \", bin(xi))\n",
    "            mi = xi&(2**h-1)\n",
    "            print(\"S \", bin(mi))\n",
    "            print(\"CI \", bin(c[i]))\n",
    "            j = c[i]^mi\n",
    "            print(f)\n",
    "            f = f + (bin(j))[2:].zfill(h)        \n",
    "        print(f)\n",
    "        "
   ]
  },
  {
   "cell_type": "markdown",
   "metadata": {},
   "source": [
    "## ElGamal\n",
    "\n",
    "The ElGamal algorithm is an asymmetric cryptographic algorithm based on discrete logarithms. \n",
    "\n",
    "Here's how Bob can send an encrypted message to Alice (with Alice's public key)\n",
    "\n",
    "**Publication of Alice's public key**\n",
    "\n",
    "- Alice finds p and g, respectively a prime number and a primitive root modulo p.\n",
    "- Alice chooses a from {0,...,p−2}, and calculates A=g<sup>a</sup>%p.\n",
    "- Alice makes (p,g,A) public.\n",
    "\n",
    "**Encryption by Bob**\n",
    "\n",
    "- Bob recovers (p,g,A).\n",
    "- Bob chooses b from {0,...,p−2}, and calculates B=g<sup>b</sup>%p.\n",
    "- Bob encrypts the message m into the cryptogram c=(A<sup>b</sup>×m)%p.\n",
    "- Bob sends (B,c).\n",
    "\n",
    "Alice deciphers c to get m, as follows: m=(B<sup>p−1−a</sup>×c)%p\n"
   ]
  },
  {
   "cell_type": "code",
   "execution_count": 574,
   "metadata": {},
   "outputs": [],
   "source": [
    "def prim_roots(modulo):\n",
    "    coprime_set = {num for num in range(1, modulo) if gcd(num, modulo) == 1}\n",
    "    return [g for g in range(1, modulo) if coprime_set == {pow(g, powers, modulo)\n",
    "            for powers in range(1, modulo)}]\n",
    "\n",
    "class ElGamal:\n",
    "    def el_gama_en_Alice(self):\n",
    "        self._p = randint(20, 500)\n",
    "        self._g = prim_roots(self._p)\n",
    "        while len(self._g) < 1:\n",
    "            self._p = randint(20, 100)\n",
    "            self._g = prim_roots(self._p)\n",
    "        self._g = self._g[0]\n",
    "        self._a = randint(0, self._p - 2)\n",
    "        A = self._g**self._a%self._p\n",
    "        print(\"Alice calculated: p =\", self._p, \", g =\", self._g, \" A =\", A)\n",
    "        return (self._p, self._g, A)\n",
    "\n",
    "\n",
    "    def el_gama_en_Bob(self, p, g, A, m):\n",
    "        b = randint(0, p - 2)\n",
    "        B = g**b%p\n",
    "        c = (A**b * m)%p\n",
    "        print(\"Bob calculated: B =\", B, \", c =\", c)\n",
    "        return B, c\n",
    "\n",
    "    def decipher(self, B, c):\n",
    "        return ((B**(self._p-1-self._a))*c)%self._p\n",
    "\n",
    "    def introduce_process(self, m):\n",
    "        (p, q, A) = self.el_gama_en_Alice()\n",
    "        B, c = self.el_gama_en_Bob(p, q, A, m)\n",
    "        result = self.decipher(B, c)\n",
    "        print(\"Result: \", bin(result)[2:])"
   ]
  },
  {
   "cell_type": "code",
   "execution_count": 575,
   "metadata": {},
   "outputs": [
    {
     "name": "stdout",
     "output_type": "stream",
     "text": [
      "Alice calculated: p = 33 , g = 2  A = 8\n",
      "Bob calculated: B = 16 , c = 11\n",
      "Result:  1011\n"
     ]
    }
   ],
   "source": [
    "el = ElGamal()\n",
    "el.introduce_process(int('1011', 2))"
   ]
  },
  {
   "cell_type": "markdown",
   "metadata": {},
   "source": [
    "## RSA \n",
    "\n",
    "**Encryption**\n",
    "\n",
    "The procedure for encrypting a message :\n",
    "\n",
    "1. using an agreed dictionary (ASCII...), the message is translated into a number t,\n",
    "2. and then raise this number t to the power c,\n",
    "3. finally, we reduce the number tc obtained modulo n: it is this number x that we send.\n",
    "\n",
    "**The deciphering**\n",
    "\n",
    "To decrypt a message x :\n",
    "\n",
    "1. we raise x to the power d,\n",
    "2. we reduce the number obtained modulo n: we find t,\n",
    "3. it remains to translate the number into a message, using the agreed dictionary\n",
    "\n",
    "n = P<sub>1</sub>P<sub>2</sub>, where P<sub>1</sub>, P<sub>2</sub> are prime numbers.\n",
    "\n",
    "To find c and d we can use these steps:\n",
    "1. Draw c randomly, and do (r,u,v)=bezout(c,(P1−1)(P2−1))\n",
    "2. As long as r≠1, do:\n",
    "     - c=c+1\n",
    "     - (r,u,v)=bezout(c,(P<sub>1</sub>−1)(P<sub>2</sub>−1))\n",
    "\n",
    "The encryption key will be the last c found, and the decryption key the last u returned, assuming they are both positive."
   ]
  },
  {
   "cell_type": "code",
   "execution_count": 514,
   "metadata": {},
   "outputs": [],
   "source": [
    "class RSA: \n",
    "    def _gen_p1_p2(self):\n",
    "        p1 = 1\n",
    "        p2 = 1\n",
    "        while p1 == p2:\n",
    "            primes_seq = get_primes(500)\n",
    "            p1 = primes_seq[cryptogen.randrange(1, len(primes_seq))]\n",
    "            p2 = primes_seq[cryptogen.randrange(1, len(primes_seq))]\n",
    "        return (p1, p2)\n",
    "\n",
    "    def _gen_params(self, p1, p2):\n",
    "        n = p1 * p2\n",
    "        c = randint(2, 50)\n",
    "        u, v, r = extended_gcd(c, (p1 - 1)*(p2 - 1))        \n",
    "        while r != 1:\n",
    "            c += 1\n",
    "            u, v, r = extended_gcd(c, (p1 - 1)*(p2 - 1))\n",
    "            if u < 0:\n",
    "                raise Exception(\"Please resimulate, because the u (d) is negative\") \n",
    "        print(\"n: {}, c: {}, d: {}\".format(n, c, u))\n",
    "        return (n, c, u)\n",
    "    \n",
    "    def encrypt(self, msg, n, c):\n",
    "        return msg**c % n\n",
    "    \n",
    "    def decrypt(self, x, n, d):\n",
    "        x = x**d\n",
    "        t = x % n\n",
    "        return int(t)\n",
    "    \n",
    "    def simulate(self, msg):\n",
    "        print(\"Original msg: \", msg)  \n",
    "        p1, p2 = self._gen_p1_p2()\n",
    "        (n, c, d) = self._gen_params(p1, p2)\n",
    "        enc = self.encrypt(msg, n, c)\n",
    "        print(\"Encryption result: \", enc)\n",
    "        dec = self.decrypt(enc, n, d)\n",
    "        print(\"Decription result: \", dec)"
   ]
  },
  {
   "cell_type": "code",
   "execution_count": 515,
   "metadata": {},
   "outputs": [
    {
     "name": "stdout",
     "output_type": "stream",
     "text": [
      "Original msg:  123\n",
      "n: 40363, c: 17, d: 11753\n",
      "Encryption result:  27313\n",
      "Decription result:  123\n"
     ]
    }
   ],
   "source": [
    "RSA().simulate(123)"
   ]
  }
 ],
 "metadata": {
  "kernelspec": {
   "display_name": "Python 3",
   "language": "python",
   "name": "python3"
  },
  "language_info": {
   "codemirror_mode": {
    "name": "ipython",
    "version": 3
   },
   "file_extension": ".py",
   "mimetype": "text/x-python",
   "name": "python",
   "nbconvert_exporter": "python",
   "pygments_lexer": "ipython3",
   "version": "3.8.3"
  }
 },
 "nbformat": 4,
 "nbformat_minor": 4
}
